{
 "cells": [
  {
   "cell_type": "raw",
   "metadata": {},
   "source": [
    "---\n",
    "title: CSL-JSON Writer\n",
    "description: |\n",
    "  This notebook shows how to generate a metadata in [CSL-JSON](https://citeproc-js.readthedocs.io/en/latest/csl-json/markup.html#introduction) format. CSL-JSON is used by the [Citation Styles Language](https://citationstyles.org/) to generate formatted citations and bibliographies.\n",
    "---"
   ]
  },
  {
   "cell_type": "markdown",
   "metadata": {},
   "source": [
    "As with all commonmeta-py Writer notebooks, we start by fetching metadata, in this example a journal article via its Crossref DOI, and convert them to the internal commonmeta format."
   ]
  },
  {
   "cell_type": "code",
   "execution_count": 1,
   "metadata": {},
   "outputs": [
    {
     "ename": "ModuleNotFoundError",
     "evalue": "No module named 'regex._regex'",
     "output_type": "error",
     "traceback": [
      "\u001b[0;31m---------------------------------------------------------------------------\u001b[0m",
      "\u001b[0;31mModuleNotFoundError\u001b[0m                       Traceback (most recent call last)",
      "\u001b[1;32m/Users/mfenner/Documents/commonmeta-py/docs/writers/csl_writer.ipynb Zelle 3\u001b[0m line \u001b[0;36m1\n\u001b[0;32m----> <a href='vscode-notebook-cell:/Users/mfenner/Documents/commonmeta-py/docs/writers/csl_writer.ipynb#W2sZmlsZQ%3D%3D?line=0'>1</a>\u001b[0m \u001b[39mfrom\u001b[39;00m \u001b[39mcommonmeta\u001b[39;00m \u001b[39mimport\u001b[39;00m Metadata\n\u001b[1;32m      <a href='vscode-notebook-cell:/Users/mfenner/Documents/commonmeta-py/docs/writers/csl_writer.ipynb#W2sZmlsZQ%3D%3D?line=2'>3</a>\u001b[0m \u001b[39m# Fetch metadata from a DOI\u001b[39;00m\n\u001b[1;32m      <a href='vscode-notebook-cell:/Users/mfenner/Documents/commonmeta-py/docs/writers/csl_writer.ipynb#W2sZmlsZQ%3D%3D?line=3'>4</a>\u001b[0m string \u001b[39m=\u001b[39m \u001b[39m'\u001b[39m\u001b[39m10.7554/elife.01567\u001b[39m\u001b[39m'\u001b[39m\n",
      "File \u001b[0;32m~/Library/Python/3.11/lib/python/site-packages/commonmeta_py-0.6.0-py3.11.egg/commonmeta/__init__.py:17\u001b[0m\n\u001b[1;32m     14\u001b[0m __author__ \u001b[39m=\u001b[39m \u001b[39m\"\u001b[39m\u001b[39mMartin Fenner\u001b[39m\u001b[39m\"\u001b[39m\n\u001b[1;32m     15\u001b[0m __license__ \u001b[39m=\u001b[39m \u001b[39m\"\u001b[39m\u001b[39mMIT\u001b[39m\u001b[39m\"\u001b[39m\n\u001b[0;32m---> 17\u001b[0m \u001b[39mfrom\u001b[39;00m \u001b[39m.\u001b[39;00m\u001b[39mmetadata\u001b[39;00m \u001b[39mimport\u001b[39;00m Metadata\n",
      "File \u001b[0;32m~/Library/Python/3.11/lib/python/site-packages/commonmeta_py-0.6.0-py3.11.egg/commonmeta/metadata/__init__.py:3\u001b[0m\n\u001b[1;32m      1\u001b[0m \u001b[39m# -*- coding: utf-8 -*-\u001b[39;00m\n\u001b[0;32m----> 3\u001b[0m \u001b[39mfrom\u001b[39;00m \u001b[39m.\u001b[39;00m\u001b[39mmetadata\u001b[39;00m \u001b[39mimport\u001b[39;00m Metadata\n",
      "File \u001b[0;32m~/Library/Python/3.11/lib/python/site-packages/commonmeta_py-0.6.0-py3.11.egg/commonmeta/metadata/metadata.py:8\u001b[0m\n\u001b[1;32m      5\u001b[0m \u001b[39mimport\u001b[39;00m \u001b[39myaml\u001b[39;00m\n\u001b[1;32m      6\u001b[0m \u001b[39mimport\u001b[39;00m \u001b[39mxmltodict\u001b[39;00m\n\u001b[0;32m----> 8\u001b[0m \u001b[39mfrom\u001b[39;00m \u001b[39m.\u001b[39;00m\u001b[39m.\u001b[39;00m\u001b[39mreaders\u001b[39;00m \u001b[39mimport\u001b[39;00m (\n\u001b[1;32m      9\u001b[0m     get_crossref,\n\u001b[1;32m     10\u001b[0m     read_crossref,\n\u001b[1;32m     11\u001b[0m     get_datacite,\n\u001b[1;32m     12\u001b[0m     read_datacite,\n\u001b[1;32m     13\u001b[0m     read_datacite_xml,\n\u001b[1;32m     14\u001b[0m     get_crossref_xml,\n\u001b[1;32m     15\u001b[0m     read_crossref_xml,\n\u001b[1;32m     16\u001b[0m     get_schema_org,\n\u001b[1;32m     17\u001b[0m     read_schema_org,\n\u001b[1;32m     18\u001b[0m     get_codemeta,\n\u001b[1;32m     19\u001b[0m     read_citeproc,\n\u001b[1;32m     20\u001b[0m     read_codemeta,\n\u001b[1;32m     21\u001b[0m     get_cff,\n\u001b[1;32m     22\u001b[0m     read_cff\n\u001b[1;32m     23\u001b[0m )\n\u001b[1;32m     24\u001b[0m \u001b[39mfrom\u001b[39;00m \u001b[39m.\u001b[39;00m\u001b[39m.\u001b[39;00m\u001b[39mwriters\u001b[39;00m \u001b[39mimport\u001b[39;00m (\n\u001b[1;32m     25\u001b[0m     write_datacite,\n\u001b[1;32m     26\u001b[0m     write_bibtex,\n\u001b[0;32m   (...)\u001b[0m\n\u001b[1;32m     31\u001b[0m     write_commonmeta\n\u001b[1;32m     32\u001b[0m )\n\u001b[1;32m     33\u001b[0m \u001b[39mfrom\u001b[39;00m \u001b[39m.\u001b[39;00m\u001b[39m.\u001b[39;00m\u001b[39mutils\u001b[39;00m \u001b[39mimport\u001b[39;00m normalize_id, find_from_format\n",
      "File \u001b[0;32m~/Library/Python/3.11/lib/python/site-packages/commonmeta_py-0.6.0-py3.11.egg/commonmeta/readers/__init__.py:2\u001b[0m\n\u001b[1;32m      1\u001b[0m \u001b[39m\"\"\"Readers for different metadata formats\"\"\"\u001b[39;00m\n\u001b[0;32m----> 2\u001b[0m \u001b[39mfrom\u001b[39;00m \u001b[39m.\u001b[39;00m\u001b[39mcrossref_reader\u001b[39;00m \u001b[39mimport\u001b[39;00m get_crossref, read_crossref\n\u001b[1;32m      3\u001b[0m \u001b[39mfrom\u001b[39;00m \u001b[39m.\u001b[39;00m\u001b[39mdatacite_reader\u001b[39;00m \u001b[39mimport\u001b[39;00m get_datacite, read_datacite\n\u001b[1;32m      4\u001b[0m \u001b[39mfrom\u001b[39;00m \u001b[39m.\u001b[39;00m\u001b[39mschema_org_reader\u001b[39;00m \u001b[39mimport\u001b[39;00m get_schema_org, read_schema_org\n",
      "File \u001b[0;32m~/Library/Python/3.11/lib/python/site-packages/commonmeta_py-0.6.0-py3.11.egg/commonmeta/readers/crossref_reader.py:16\u001b[0m\n\u001b[1;32m     14\u001b[0m \u001b[39mfrom\u001b[39;00m \u001b[39m.\u001b[39;00m\u001b[39m.\u001b[39;00m\u001b[39mbase_utils\u001b[39;00m \u001b[39mimport\u001b[39;00m wrap, compact, presence, sanitize\n\u001b[1;32m     15\u001b[0m \u001b[39mfrom\u001b[39;00m \u001b[39m.\u001b[39;00m\u001b[39m.\u001b[39;00m\u001b[39mauthor_utils\u001b[39;00m \u001b[39mimport\u001b[39;00m get_authors\n\u001b[0;32m---> 16\u001b[0m \u001b[39mfrom\u001b[39;00m \u001b[39m.\u001b[39;00m\u001b[39m.\u001b[39;00m\u001b[39mdate_utils\u001b[39;00m \u001b[39mimport\u001b[39;00m get_date_from_date_parts\n\u001b[1;32m     17\u001b[0m \u001b[39mfrom\u001b[39;00m \u001b[39m.\u001b[39;00m\u001b[39m.\u001b[39;00m\u001b[39mdoi_utils\u001b[39;00m \u001b[39mimport\u001b[39;00m doi_as_url, doi_from_url, get_doi_ra, crossref_api_url\n\u001b[1;32m     18\u001b[0m \u001b[39mfrom\u001b[39;00m \u001b[39m.\u001b[39;00m\u001b[39m.\u001b[39;00m\u001b[39mconstants\u001b[39;00m \u001b[39mimport\u001b[39;00m (\n\u001b[1;32m     19\u001b[0m     CR_TO_BIB_TRANSLATIONS,\n\u001b[1;32m     20\u001b[0m     CR_TO_CP_TRANSLATIONS,\n\u001b[0;32m   (...)\u001b[0m\n\u001b[1;32m     24\u001b[0m     Commonmeta,\n\u001b[1;32m     25\u001b[0m )\n",
      "File \u001b[0;32m~/Library/Python/3.11/lib/python/site-packages/commonmeta_py-0.6.0-py3.11.egg/commonmeta/date_utils.py:5\u001b[0m\n\u001b[1;32m      3\u001b[0m \u001b[39mfrom\u001b[39;00m \u001b[39mdatetime\u001b[39;00m \u001b[39mimport\u001b[39;00m datetime \u001b[39mas\u001b[39;00m dt\n\u001b[1;32m      4\u001b[0m \u001b[39mfrom\u001b[39;00m \u001b[39mtyping\u001b[39;00m \u001b[39mimport\u001b[39;00m Optional, Union\n\u001b[0;32m----> 5\u001b[0m \u001b[39mimport\u001b[39;00m \u001b[39mdateparser\u001b[39;00m\n\u001b[1;32m      6\u001b[0m \u001b[39mimport\u001b[39;00m \u001b[39mpydash\u001b[39;00m \u001b[39mas\u001b[39;00m \u001b[39mpy_\u001b[39;00m\n\u001b[1;32m      7\u001b[0m \u001b[39mfrom\u001b[39;00m \u001b[39m.\u001b[39;00m\u001b[39mutils\u001b[39;00m \u001b[39mimport\u001b[39;00m wrap\n",
      "File \u001b[0;32m~/.pyenv/versions/3.9.16/lib/python3.9/site-packages/dateparser/__init__.py:3\u001b[0m\n\u001b[1;32m      1\u001b[0m __version__ \u001b[39m=\u001b[39m \u001b[39m'\u001b[39m\u001b[39m1.1.8\u001b[39m\u001b[39m'\u001b[39m\n\u001b[0;32m----> 3\u001b[0m \u001b[39mfrom\u001b[39;00m \u001b[39m.\u001b[39;00m\u001b[39mdate\u001b[39;00m \u001b[39mimport\u001b[39;00m DateDataParser\n\u001b[1;32m      4\u001b[0m \u001b[39mfrom\u001b[39;00m \u001b[39m.\u001b[39;00m\u001b[39mconf\u001b[39;00m \u001b[39mimport\u001b[39;00m apply_settings\n\u001b[1;32m      6\u001b[0m _default_parser \u001b[39m=\u001b[39m DateDataParser()\n",
      "File \u001b[0;32m~/.pyenv/versions/3.9.16/lib/python3.9/site-packages/dateparser/date.py:6\u001b[0m\n\u001b[1;32m      3\u001b[0m \u001b[39mfrom\u001b[39;00m \u001b[39mcollections\u001b[39;00m\u001b[39m.\u001b[39;00m\u001b[39mabc\u001b[39;00m \u001b[39mimport\u001b[39;00m Set\n\u001b[1;32m      4\u001b[0m \u001b[39mfrom\u001b[39;00m \u001b[39mdatetime\u001b[39;00m \u001b[39mimport\u001b[39;00m datetime, timedelta\n\u001b[0;32m----> 6\u001b[0m \u001b[39mimport\u001b[39;00m \u001b[39mregex\u001b[39;00m \u001b[39mas\u001b[39;00m \u001b[39mre\u001b[39;00m\n\u001b[1;32m      7\u001b[0m \u001b[39mfrom\u001b[39;00m \u001b[39mtzlocal\u001b[39;00m \u001b[39mimport\u001b[39;00m get_localzone\n\u001b[1;32m      8\u001b[0m \u001b[39mfrom\u001b[39;00m \u001b[39mdateutil\u001b[39;00m\u001b[39m.\u001b[39;00m\u001b[39mrelativedelta\u001b[39;00m \u001b[39mimport\u001b[39;00m relativedelta\n",
      "File \u001b[0;32m~/.pyenv/versions/3.9.16/lib/python3.9/site-packages/regex/__init__.py:1\u001b[0m\n\u001b[0;32m----> 1\u001b[0m \u001b[39mfrom\u001b[39;00m \u001b[39m.\u001b[39;00m\u001b[39mregex\u001b[39;00m \u001b[39mimport\u001b[39;00m \u001b[39m*\u001b[39m\n\u001b[1;32m      2\u001b[0m \u001b[39mfrom\u001b[39;00m \u001b[39m.\u001b[39;00m \u001b[39mimport\u001b[39;00m regex\n\u001b[1;32m      3\u001b[0m __all__ \u001b[39m=\u001b[39m regex\u001b[39m.\u001b[39m__all__\n",
      "File \u001b[0;32m~/.pyenv/versions/3.9.16/lib/python3.9/site-packages/regex/regex.py:421\u001b[0m\n\u001b[1;32m    416\u001b[0m     \u001b[39mreturn\u001b[39;00m r\n\u001b[1;32m    418\u001b[0m \u001b[39m# --------------------------------------------------------------------\u001b[39;00m\n\u001b[1;32m    419\u001b[0m \u001b[39m# Internals.\u001b[39;00m\n\u001b[0;32m--> 421\u001b[0m \u001b[39mimport\u001b[39;00m \u001b[39mregex\u001b[39;00m\u001b[39m.\u001b[39;00m\u001b[39m_regex_core\u001b[39;00m \u001b[39mas\u001b[39;00m \u001b[39m_regex_core\u001b[39;00m\n\u001b[1;32m    422\u001b[0m \u001b[39mimport\u001b[39;00m \u001b[39mregex\u001b[39;00m\u001b[39m.\u001b[39;00m\u001b[39m_regex\u001b[39;00m \u001b[39mas\u001b[39;00m \u001b[39m_regex\u001b[39;00m\n\u001b[1;32m    423\u001b[0m \u001b[39mfrom\u001b[39;00m \u001b[39mthreading\u001b[39;00m \u001b[39mimport\u001b[39;00m RLock \u001b[39mas\u001b[39;00m _RLock\n",
      "File \u001b[0;32m~/.pyenv/versions/3.9.16/lib/python3.9/site-packages/regex/_regex_core.py:21\u001b[0m\n\u001b[1;32m     18\u001b[0m \u001b[39mimport\u001b[39;00m \u001b[39municodedata\u001b[39;00m\n\u001b[1;32m     19\u001b[0m \u001b[39mfrom\u001b[39;00m \u001b[39mcollections\u001b[39;00m \u001b[39mimport\u001b[39;00m defaultdict\n\u001b[0;32m---> 21\u001b[0m \u001b[39mimport\u001b[39;00m \u001b[39mregex\u001b[39;00m\u001b[39m.\u001b[39;00m\u001b[39m_regex\u001b[39;00m \u001b[39mas\u001b[39;00m \u001b[39m_regex\u001b[39;00m\n\u001b[1;32m     23\u001b[0m __all__ \u001b[39m=\u001b[39m [\u001b[39m\"\u001b[39m\u001b[39mA\u001b[39m\u001b[39m\"\u001b[39m, \u001b[39m\"\u001b[39m\u001b[39mASCII\u001b[39m\u001b[39m\"\u001b[39m, \u001b[39m\"\u001b[39m\u001b[39mB\u001b[39m\u001b[39m\"\u001b[39m, \u001b[39m\"\u001b[39m\u001b[39mBESTMATCH\u001b[39m\u001b[39m\"\u001b[39m, \u001b[39m\"\u001b[39m\u001b[39mD\u001b[39m\u001b[39m\"\u001b[39m, \u001b[39m\"\u001b[39m\u001b[39mDEBUG\u001b[39m\u001b[39m\"\u001b[39m, \u001b[39m\"\u001b[39m\u001b[39mE\u001b[39m\u001b[39m\"\u001b[39m, \u001b[39m\"\u001b[39m\u001b[39mENHANCEMATCH\u001b[39m\u001b[39m\"\u001b[39m,\n\u001b[1;32m     24\u001b[0m   \u001b[39m\"\u001b[39m\u001b[39mF\u001b[39m\u001b[39m\"\u001b[39m, \u001b[39m\"\u001b[39m\u001b[39mFULLCASE\u001b[39m\u001b[39m\"\u001b[39m, \u001b[39m\"\u001b[39m\u001b[39mI\u001b[39m\u001b[39m\"\u001b[39m, \u001b[39m\"\u001b[39m\u001b[39mIGNORECASE\u001b[39m\u001b[39m\"\u001b[39m, \u001b[39m\"\u001b[39m\u001b[39mL\u001b[39m\u001b[39m\"\u001b[39m, \u001b[39m\"\u001b[39m\u001b[39mLOCALE\u001b[39m\u001b[39m\"\u001b[39m, \u001b[39m\"\u001b[39m\u001b[39mM\u001b[39m\u001b[39m\"\u001b[39m, \u001b[39m\"\u001b[39m\u001b[39mMULTILINE\u001b[39m\u001b[39m\"\u001b[39m, \u001b[39m\"\u001b[39m\u001b[39mP\u001b[39m\u001b[39m\"\u001b[39m,\n\u001b[1;32m     25\u001b[0m   \u001b[39m\"\u001b[39m\u001b[39mPOSIX\u001b[39m\u001b[39m\"\u001b[39m, \u001b[39m\"\u001b[39m\u001b[39mR\u001b[39m\u001b[39m\"\u001b[39m, \u001b[39m\"\u001b[39m\u001b[39mREVERSE\u001b[39m\u001b[39m\"\u001b[39m, \u001b[39m\"\u001b[39m\u001b[39mS\u001b[39m\u001b[39m\"\u001b[39m, \u001b[39m\"\u001b[39m\u001b[39mDOTALL\u001b[39m\u001b[39m\"\u001b[39m, \u001b[39m\"\u001b[39m\u001b[39mT\u001b[39m\u001b[39m\"\u001b[39m, \u001b[39m\"\u001b[39m\u001b[39mTEMPLATE\u001b[39m\u001b[39m\"\u001b[39m, \u001b[39m\"\u001b[39m\u001b[39mU\u001b[39m\u001b[39m\"\u001b[39m, \u001b[39m\"\u001b[39m\u001b[39mUNICODE\u001b[39m\u001b[39m\"\u001b[39m,\n\u001b[1;32m     26\u001b[0m   \u001b[39m\"\u001b[39m\u001b[39mV0\u001b[39m\u001b[39m\"\u001b[39m, \u001b[39m\"\u001b[39m\u001b[39mVERSION0\u001b[39m\u001b[39m\"\u001b[39m, \u001b[39m\"\u001b[39m\u001b[39mV1\u001b[39m\u001b[39m\"\u001b[39m, \u001b[39m\"\u001b[39m\u001b[39mVERSION1\u001b[39m\u001b[39m\"\u001b[39m, \u001b[39m\"\u001b[39m\u001b[39mW\u001b[39m\u001b[39m\"\u001b[39m, \u001b[39m\"\u001b[39m\u001b[39mWORD\u001b[39m\u001b[39m\"\u001b[39m, \u001b[39m\"\u001b[39m\u001b[39mX\u001b[39m\u001b[39m\"\u001b[39m, \u001b[39m\"\u001b[39m\u001b[39mVERBOSE\u001b[39m\u001b[39m\"\u001b[39m, \u001b[39m\"\u001b[39m\u001b[39merror\u001b[39m\u001b[39m\"\u001b[39m,\n\u001b[1;32m     27\u001b[0m   \u001b[39m\"\u001b[39m\u001b[39mScanner\u001b[39m\u001b[39m\"\u001b[39m, \u001b[39m\"\u001b[39m\u001b[39mRegexFlag\u001b[39m\u001b[39m\"\u001b[39m]\n\u001b[1;32m     29\u001b[0m \u001b[39m# The regex exception.\u001b[39;00m\n",
      "\u001b[0;31mModuleNotFoundError\u001b[0m: No module named 'regex._regex'"
     ]
    }
   ],
   "source": [
    "from commonmeta import Metadata\n",
    "\n",
    "# Fetch metadata from a DOI\n",
    "string = \"10.7554/elife.01567\"\n",
    "metadata = Metadata(string)\n",
    "\n",
    "# Check that metadata was fetched successfully\n",
    "print(metadata.state)"
   ]
  },
  {
   "attachments": {},
   "cell_type": "markdown",
   "metadata": {},
   "source": [
    "## Generate CSL-JSON\n",
    "\n",
    "We can now generate CSL-JSON from the metadata in commonmeta format. "
   ]
  },
  {
   "cell_type": "code",
   "execution_count": null,
   "metadata": {},
   "outputs": [
    {
     "name": "stdout",
     "output_type": "stream",
     "text": [
      "{\n",
      "    \"type\": \"article-journal\",\n",
      "    \"id\": \"https://doi.org/10.7554/elife.01567\",\n",
      "    \"DOI\": \"10.7554/elife.01567\",\n",
      "    \"URL\": \"https://elifesciences.org/articles/01567\",\n",
      "    \"categories\": [\n",
      "        \"General Immunology and Microbiology\",\n",
      "        \"General Biochemistry, Genetics and Molecular Biology\",\n",
      "        \"General Medicine\",\n",
      "        \"General Neuroscience\"\n",
      "    ],\n",
      "    \"language\": \"en\",\n",
      "    \"author\": [\n",
      "        {\n",
      "            \"family\": \"Sankar\",\n",
      "            \"given\": \"Martial\"\n",
      "        },\n",
      "        {\n",
      "            \"family\": \"Nieminen\",\n",
      "            \"given\": \"Kaisa\"\n",
      "        },\n",
      "        {\n",
      "            \"family\": \"Ragni\",\n",
      "            \"given\": \"Laura\"\n",
      "        },\n",
      "        {\n",
      "            \"family\": \"Xenarios\",\n",
      "            \"given\": \"Ioannis\"\n",
      "        },\n",
      "        {\n",
      "            \"family\": \"Hardtke\",\n",
      "            \"given\": \"Christian S\"\n",
      "        }\n",
      "    ],\n",
      "    \"contributor\": [],\n",
      "    \"issued\": {\n",
      "        \"date-parts\": [\n",
      "            [\n",
      "                2014,\n",
      "                2,\n",
      "                11\n",
      "            ]\n",
      "        ]\n",
      "    },\n",
      "    \"abstract\": \"Among various advantages, their small size makes model organisms preferred subjects of investigation. Yet, even in model systems detailed analysis of numerous developmental processes at cellular level is severely hampered by their scale. For instance, secondary growth of Arabidopsis hypocotyls creates a radial pattern of highly specialized tissues that comprises several thousand cells starting from a few dozen. This dynamic process is difficult to follow because of its scale and because it can only be investigated invasively, precluding comprehensive understanding of the cell proliferation, differentiation, and patterning events involved. To overcome such limitation, we established an automated quantitative histology approach. We acquired hypocotyl cross-sections from tiled high-resolution images and extracted their information content using custom high-throughput image processing and segmentation. Coupled with automated cell type recognition through machine learning, we could establish a cellular resolution atlas that reveals vascular morphodynamics during secondary growth, for example equidistant phloem pole formation.\",\n",
      "    \"container-title\": \"eLife\",\n",
      "    \"volume\": \"3\",\n",
      "    \"publisher\": \"eLife Sciences Publications, Ltd\",\n",
      "    \"title\": \"Automated quantitative histology reveals vascular morphodynamics during Arabidopsis hypocotyl secondary growth\",\n",
      "    \"copyright\": \"CC-BY-3.0\"\n",
      "}\n"
     ]
    }
   ],
   "source": [
    "csl = metadata.write(to=\"csl\")\n",
    "print(csl)"
   ]
  },
  {
   "attachments": {},
   "cell_type": "markdown",
   "metadata": {},
   "source": [
    "CSL-JSON is similar to the JSON – e.g. in using `date-parts` for dates. However, it has some differences, e.g. in the `type` field. commonmeta therefore supports specific types for CSL-JSON in addition to the `ResourceType` used for Crossref metadata."
   ]
  }
 ],
 "metadata": {
  "kernelspec": {
   "display_name": "Python 3",
   "language": "python",
   "name": "python3"
  },
  "language_info": {
   "codemirror_mode": {
    "name": "ipython",
    "version": 3
   },
   "file_extension": ".py",
   "mimetype": "text/x-python",
   "name": "python",
   "nbconvert_exporter": "python",
   "pygments_lexer": "ipython3",
   "version": "3.13.7"
  },
  "orig_nbformat": 4,
  "vscode": {
   "interpreter": {
    "hash": "a665b5d41d17b532ea9890333293a1b812fa0b73c9c25c950b3cedf1bebd0438"
   }
  }
 },
 "nbformat": 4,
 "nbformat_minor": 2
}
