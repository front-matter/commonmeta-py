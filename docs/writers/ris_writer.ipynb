{
 "cells": [
  {
   "attachments": {},
   "cell_type": "raw",
   "metadata": {},
   "source": [
    "---\n",
    "title: RIS Writer\n",
    "description: |\n",
    "  This notebook shows how to generate RIS metadata from a scholarly resource retrieved via commonmeta-py. RIS metadata can be imported into reference managers such as Zotero, Mendeley, and EndNote.\n",
    "---"
   ]
  },
  {
   "attachments": {},
   "cell_type": "markdown",
   "metadata": {},
   "source": [
    "## Fetch metadata\n",
    "\n",
    "As with all commonmeta-py notebooks, we start by fetching metadata, in this example a journal article via its Crossref DOI, and convert them to the internal commonmeta format."
   ]
  },
  {
   "cell_type": "code",
   "execution_count": 1,
   "metadata": {},
   "outputs": [
    {
     "name": "stdout",
     "output_type": "stream",
     "text": [
      "findable\n"
     ]
    }
   ],
   "source": [
    "from commonmeta import Metadata\n",
    "\n",
    "# Fetch metadata from a DOIq\n",
    "string = \"10.7554/elife.01567\"\n",
    "metadata = Metadata(string)\n",
    "\n",
    "# Check that metadata was fetched successfully\n",
    "print(metadata.state)"
   ]
  },
  {
   "attachments": {},
   "cell_type": "markdown",
   "metadata": {},
   "source": [
    "## Generate RIS\n",
    "\n",
    "We can now generate RIS metadata from the article metadata."
   ]
  },
  {
   "cell_type": "code",
   "execution_count": null,
   "metadata": {},
   "outputs": [
    {
     "name": "stdout",
     "output_type": "stream",
     "text": [
      "TY  - JOUR\n",
      "T1  - Automated quantitative histology reveals vascular morphodynamics during Arabidopsis hypocotyl secondary growth\n",
      "T2  - eLife\n",
      "AU  - Sankar, Martial\n",
      "AU  - Nieminen, Kaisa\n",
      "AU  - Ragni, Laura\n",
      "AU  - Xenarios, Ioannis\n",
      "AU  - Hardtke, Christian S\n",
      "DO  - 10.7554/elife.01567\n",
      "UR  - https://elifesciences.org/articles/01567\n",
      "AB  - Among various advantages, their small size makes model organisms preferred subjects of investigation. Yet, even in model systems detailed analysis of numerous developmental processes at cellular level is severely hampered by their scale. For instance, secondary growth of Arabidopsis hypocotyls creates a radial pattern of highly specialized tissues that comprises several thousand cells starting from a few dozen. This dynamic process is difficult to follow because of its scale and because it can only be investigated invasively, precluding comprehensive understanding of the cell proliferation, differentiation, and patterning events involved. To overcome such limitation, we established an automated quantitative histology approach. We acquired hypocotyl cross-sections from tiled high-resolution images and extracted their information content using custom high-throughput image processing and segmentation. Coupled with automated cell type recognition through machine learning, we could establish a cellular resolution atlas that reveals vascular morphodynamics during secondary growth, for example equidistant phloem pole formation.\n",
      "KW  - General Immunology and Microbiology\n",
      "KW  - General Biochemistry, Genetics and Molecular Biology\n",
      "KW  - General Medicine\n",
      "KW  - General Neuroscience\n",
      "PY  - 2014\n",
      "PB  - eLife Sciences Publications, Ltd\n",
      "LA  - en\n",
      "VL  - 3\n",
      "ER  - \n"
     ]
    }
   ],
   "source": [
    "ris = metadata.write(to=\"ris\")\n",
    "print(ris)"
   ]
  },
  {
   "attachments": {},
   "cell_type": "markdown",
   "metadata": {},
   "source": [
    "## Supported RIS Types\n",
    "\n",
    "commonmeta-py supports most RIS types and maps them from the internal commonmeta type. Types that are not supported are mapped to `GEN`. Below are examples of RIS metadata for types other than `JOUR` (journal article):"
   ]
  },
  {
   "cell_type": "markdown",
   "metadata": {},
   "source": [
    "### Book chapter"
   ]
  },
  {
   "cell_type": "code",
   "execution_count": null,
   "metadata": {},
   "outputs": [
    {
     "name": "stdout",
     "output_type": "stream",
     "text": [
      "TY  - CHAP\n",
      "T1  - Clinical Symptoms and Physical Examinations\n",
      "T2  - Shoulder Stiffness\n",
      "AU  - Diercks, Ronald L.\n",
      "AU  - Ludvigsen, Tom Clement\n",
      "DO  - 10.1007/978-3-662-46370-3_13\n",
      "UR  - https://link.springer.com/10.1007/978-3-662-46370-3_13\n",
      "PY  - 2015\n",
      "PB  - Springer Science and Business Media LLC\n",
      "SP  - 155\n",
      "EP  - 158\n",
      "ER  - \n"
     ]
    }
   ],
   "source": [
    "metadata = Metadata(\"10.1007/978-3-662-46370-3_13\")\n",
    "ris = metadata.write(to=\"ris\")\n",
    "print(ris)"
   ]
  },
  {
   "cell_type": "markdown",
   "metadata": {},
   "source": [
    "### Conference proceedings"
   ]
  },
  {
   "cell_type": "code",
   "execution_count": null,
   "metadata": {},
   "outputs": [
    {
     "name": "stdout",
     "output_type": "stream",
     "text": [
      "TY  - CPAPER\n",
      "T1  - A Seeded Image Segmentation Framework Unifying Graph Cuts And Random Walker Which Yields A New Algorithm\n",
      "T2  - 2007 IEEE 11th International Conference on Computer Vision\n",
      "AU  - Sinop, Ali Kemal\n",
      "AU  - Grady, Leo\n",
      "DO  - 10.1109/iccv.2007.4408927\n",
      "UR  - http://ieeexplore.ieee.org/document/4408927\n",
      "PY  - 2007\n",
      "PB  - Institute of Electrical and Electronics Engineers (IEEE)\n",
      "ER  - \n"
     ]
    }
   ],
   "source": [
    "metadata = Metadata(\"10.1109/iccv.2007.4408927\")\n",
    "ris = metadata.write(to=\"ris\")\n",
    "print(ris)"
   ]
  },
  {
   "cell_type": "markdown",
   "metadata": {},
   "source": [
    "### Dissertation"
   ]
  },
  {
   "cell_type": "code",
   "execution_count": null,
   "metadata": {},
   "outputs": [
    {
     "name": "stdout",
     "output_type": "stream",
     "text": [
      "TY  - THES\n",
      "T1  - School truancy and financial independence during emerging adulthood: a longitudinal analysis of receipt of and reliance on cash transfers\n",
      "AU  - Collingwood, Patricia Maree\n",
      "DO  - 10.14264/uql.2020.791\n",
      "UR  - http://espace.library.uq.edu.au/view/UQ:23a1e74\n",
      "PY  - 2020\n",
      "PB  - University of Queensland Library\n",
      "ER  - \n"
     ]
    }
   ],
   "source": [
    "metadata = Metadata(\"10.14264/uql.2020.791\")\n",
    "ris = metadata.write(to=\"ris\")\n",
    "print(ris)"
   ]
  }
 ],
 "metadata": {
  "kernelspec": {
   "display_name": "commonmeta-py",
   "language": "python",
   "name": "python3"
  },
  "language_info": {
   "codemirror_mode": {
    "name": "ipython",
    "version": 3
   },
   "file_extension": ".py",
   "mimetype": "text/x-python",
   "name": "python",
   "nbconvert_exporter": "python",
   "pygments_lexer": "ipython3",
   "version": "3.9.13"
  },
  "orig_nbformat": 4
 },
 "nbformat": 4,
 "nbformat_minor": 2
}
