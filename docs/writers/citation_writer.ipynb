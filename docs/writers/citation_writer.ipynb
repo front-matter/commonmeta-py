{
 "cells": [
  {
   "attachments": {},
   "cell_type": "raw",
   "id": "121752b4-5e3f-495a-b76f-8fab3d44b3b5",
   "metadata": {},
   "source": [
    "---\n",
    "title: Citation Writer\n",
    "description: |\n",
    "  This notebook shows how to generate a formatted citation in one of the 1000s of styles supported by the [Citation Style Language](https://citationstyles.org/). The citation is returned as a string in HTML format, supporting a limited subset of HTML tags (such as `<i>` and `<sup>`).\n",
    "---"
   ]
  },
  {
   "attachments": {},
   "cell_type": "markdown",
   "id": "07d8b988",
   "metadata": {},
   "source": [
    "## Fetch metadata\n",
    "\n",
    "As with all commonmeta-py notebooks, we start by fetching metadata, in this example a journal article via its Crossref DOI, an then convert them to the internal commonmeta format."
   ]
  },
  {
   "cell_type": "code",
   "execution_count": 3,
   "id": "35248b4a",
   "metadata": {},
   "outputs": [
    {
     "name": "stdout",
     "output_type": "stream",
     "text": [
      "findable\n"
     ]
    }
   ],
   "source": [
    "from commonmeta import Metadata\n",
    "\n",
    "# Fetch metadata from a DOI\n",
    "string = \"10.7554/elife.01567\"\n",
    "metadata = Metadata(string)\n",
    "\n",
    "# Check that metadata was fetched successfully\n",
    "print(metadata.state)"
   ]
  },
  {
   "attachments": {},
   "cell_type": "markdown",
   "id": "d0444863",
   "metadata": {},
   "source": [
    "## Generate a formatted citation\n",
    "\n",
    "Using the `citation` writer, commonmeta-py can generate a formatted citation for the resource, using one of the citation styles defined in the [Citation Style Language](https://github.com/citation-style-language/styles). The default style is `apa`, which is the American Psychological Association 7th Edition style. The style is not only very popular and well-documented, but is one of only a few styles that has specific support for special content types, such as `dataset` and `software`. And unlike many other styles, it includes the DOI expressed as URL in the citation."
   ]
  },
  {
   "cell_type": "markdown",
   "id": "7fb27b941602401d91542211134fc71a",
   "metadata": {},
   "source": [
    "### Journal article"
   ]
  },
  {
   "cell_type": "code",
   "execution_count": null,
   "id": "0e35c7d1",
   "metadata": {},
   "outputs": [
    {
     "name": "stdout",
     "output_type": "stream",
     "text": [
      "Sankar, M., Nieminen, K., Ragni, L., Xenarios, I., &amp; Hardtke, C. S. (2014). Automated quantitative histology reveals vascular morphodynamics during Arabidopsis hypocotyl secondary growth. <i>Elife</i>, <i>3</i>. https://doi.org/10.7554/elife.01567\n"
     ]
    }
   ],
   "source": [
    "from commonmeta import Metadata\n",
    "\n",
    "metadata = Metadata(\"10.18558/fil026\")\n",
    "citation = metadata.write(to=\"citation\", style=\"apa\", locale=\"en-US\")\n",
    "print(citation)"
   ]
  },
  {
   "cell_type": "markdown",
   "id": "acae54e37e7d407bbb7b55eff062a284",
   "metadata": {},
   "source": [
    "### Conference proceedings"
   ]
  },
  {
   "cell_type": "code",
   "execution_count": null,
   "id": "23f2db36",
   "metadata": {},
   "outputs": [
    {
     "name": "stdout",
     "output_type": "stream",
     "text": [
      "Sinop, A. K., &amp; Grady, L. (2007). A Seeded Image Segmentation Framework Unifying Graph Cuts And Random Walker Which Yields A New Algorithm. In <i>2007 IEEE 11th International Conference on Computer Vision</i>. Institute of Electrical and Electronics Engineers (IEEE). https://doi.org/10.1109/iccv.2007.4408927\n"
     ]
    }
   ],
   "source": [
    "metadata = Metadata(\"10.1109/iccv.2007.4408927\")\n",
    "citation = metadata.write(to=\"citation\", style=\"apa\", locale=\"en-US\")\n",
    "print(citation)"
   ]
  },
  {
   "cell_type": "markdown",
   "id": "9a63283cbaf04dbcab1f6479b197f3a8",
   "metadata": {},
   "source": [
    "### Book chapter"
   ]
  },
  {
   "cell_type": "code",
   "execution_count": null,
   "id": "5eef51fe",
   "metadata": {},
   "outputs": [
    {
     "name": "stdout",
     "output_type": "stream",
     "text": [
      "Chen, L., Panin, G., &amp; Knoll, A. (2012). Human Body Orientation Estimation in Multiview Scenarios. In <i>Advances in Visual Computing</i> (pp. 499–508). Springer Science and Business Media LLC. https://doi.org/10.1007/978-3-642-33191-6_49\n"
     ]
    }
   ],
   "source": [
    "metadata = Metadata(\"10.1007/978-3-642-33191-6_49\")\n",
    "citation = metadata.write(to=\"citation\", style=\"apa\", locale=\"en-US\")\n",
    "print(citation)"
   ]
  },
  {
   "cell_type": "markdown",
   "id": "8dd0d8092fe74a7c96281538738b07e2",
   "metadata": {},
   "source": [
    "### Dataset"
   ]
  },
  {
   "cell_type": "code",
   "execution_count": null,
   "id": "8b43ad16",
   "metadata": {},
   "outputs": [
    {
     "name": "stdout",
     "output_type": "stream",
     "text": [
      "Ollomo, B., Durand, P., Prugnolle, F., Douzery, E. J. P., Arnathau, C., Nkoghe, D., Leroy, E., &amp; Renaud, F. (2011). <i>Data from: A new malaria agent in African hominids.</i> (Version 1) [Data set]. Dryad. https://doi.org/10.5061/dryad.8515\n"
     ]
    }
   ],
   "source": [
    "metadata = Metadata(\"10.5061/dryad.8515\")\n",
    "citation = metadata.write(to=\"citation\", style=\"apa\", locale=\"en-US\")\n",
    "print(citation)"
   ]
  },
  {
   "cell_type": "markdown",
   "id": "72eea5119410473aa328ad9291626812",
   "metadata": {},
   "source": [
    "### Software"
   ]
  },
  {
   "cell_type": "code",
   "execution_count": null,
   "id": "6f52aa82",
   "metadata": {},
   "outputs": [
    {
     "name": "stdout",
     "output_type": "stream",
     "text": [
      "Garza, K. (2016). <i>Analysis Tools for Crossover Experiment of UI using Choice Architecture</i> (v1.0) [Computer software]. Zenodo. https://doi.org/10.5281/zenodo.48440\n"
     ]
    }
   ],
   "source": [
    "# TODO properly handle software type\n",
    "metadata = Metadata(\"10.5281/zenodo.48440\")\n",
    "citation = metadata.write(to=\"citation\", style=\"apa\", locale=\"en-US\")\n",
    "print(citation)"
   ]
  },
  {
   "attachments": {},
   "cell_type": "markdown",
   "id": "aac369fe",
   "metadata": {},
   "source": [
    "## Popular Citation Styles\n",
    "\n",
    "Let's try out a few popular citation styles:"
   ]
  },
  {
   "cell_type": "code",
   "execution_count": 22,
   "id": "7945d349",
   "metadata": {},
   "outputs": [],
   "source": [
    "# let fetch the original metadata again\n",
    "metadata = Metadata(\"10.7554/elife.01567\")"
   ]
  },
  {
   "cell_type": "markdown",
   "id": "8edb47106e1a46a883d545849b8ab81b",
   "metadata": {},
   "source": [
    "### American Psychological Association 7th Edition (default)"
   ]
  },
  {
   "cell_type": "code",
   "execution_count": null,
   "id": "10185d26023b46108eb7d9f57d49d2b3",
   "metadata": {},
   "outputs": [
    {
     "name": "stdout",
     "output_type": "stream",
     "text": [
      "Sankar, M., Nieminen, K., Ragni, L., Xenarios, I., &amp; Hardtke, C. S. (2014). Automated quantitative histology reveals vascular morphodynamics during Arabidopsis hypocotyl secondary growth. <i>Elife</i>, <i>3</i>. https://doi.org/10.7554/elife.01567\n"
     ]
    }
   ],
   "source": [
    "citation = metadata.write(to=\"citation\", style=\"apa\", locale=\"en-US\")\n",
    "print(citation)"
   ]
  },
  {
   "cell_type": "markdown",
   "id": "8763a12b2bbd4a93a75aff182afb95dc",
   "metadata": {},
   "source": [
    "### American Medical Association (AMA)"
   ]
  },
  {
   "cell_type": "code",
   "execution_count": null,
   "id": "7623eae2785240b9bd12b16a66d81610",
   "metadata": {},
   "outputs": [
    {
     "name": "stdout",
     "output_type": "stream",
     "text": [
      "1. Sankar M, Nieminen K, Ragni L, Xenarios I, Hardtke CS. Automated quantitative histology reveals vascular morphodynamics during Arabidopsis hypocotyl secondary growth. <i>eLife</i>. 2014;3. doi:10.7554/elife.01567\n"
     ]
    }
   ],
   "source": [
    "citation = metadata.write(to=\"citation\", style=\"american-medical-association\", locale=\"en-US\")\n",
    "print(citation)"
   ]
  },
  {
   "cell_type": "markdown",
   "id": "7cdc8c89c7104fffa095e18ddfef8986",
   "metadata": {},
   "source": [
    "### IEEE"
   ]
  },
  {
   "cell_type": "code",
   "execution_count": 2,
   "id": "f6388908",
   "metadata": {},
   "outputs": [
    {
     "ename": "NameError",
     "evalue": "name 'metadata' is not defined",
     "output_type": "error",
     "traceback": [
      "\u001b[0;31m---------------------------------------------------------------------------\u001b[0m",
      "\u001b[0;31mNameError\u001b[0m                                 Traceback (most recent call last)",
      "Cell \u001b[0;32mIn[2], line 1\u001b[0m\n\u001b[0;32m----> 1\u001b[0m citation \u001b[38;5;241m=\u001b[39m \u001b[43mmetadata\u001b[49m\u001b[38;5;241m.\u001b[39mwrite(to\u001b[38;5;241m=\u001b[39m\u001b[38;5;124m\"\u001b[39m\u001b[38;5;124mcitation\u001b[39m\u001b[38;5;124m\"\u001b[39m, style\u001b[38;5;241m=\u001b[39m\u001b[38;5;124m\"\u001b[39m\u001b[38;5;124mieee\u001b[39m\u001b[38;5;124m\"\u001b[39m, locale\u001b[38;5;241m=\u001b[39m\u001b[38;5;124m\"\u001b[39m\u001b[38;5;124men-US\u001b[39m\u001b[38;5;124m\"\u001b[39m)\n\u001b[1;32m      2\u001b[0m \u001b[38;5;28mprint\u001b[39m(citation)\n",
      "\u001b[0;31mNameError\u001b[0m: name 'metadata' is not defined"
     ]
    }
   ],
   "source": [
    "citation = metadata.write(to=\"citation\", style=\"ieee\", locale=\"en-US\")\n",
    "print(citation)"
   ]
  },
  {
   "cell_type": "markdown",
   "id": "b118ea5561624da68c537baed56e602f",
   "metadata": {},
   "source": [
    "### Chicago Manual of Style 17th Edition (author-date)"
   ]
  },
  {
   "cell_type": "code",
   "execution_count": null,
   "id": "2f10dc4f",
   "metadata": {},
   "outputs": [
    {
     "name": "stdout",
     "output_type": "stream",
     "text": [
      "Sankar, Martial, Kaisa Nieminen, Laura Ragni, Ioannis Xenarios, and Christian S Hardtke. 2014. “Automated Quantitative Histology Reveals Vascular Morphodynamics During Arabidopsis Hypocotyl Secondary Growth”. <i>Elife</i> 3 (February). https://doi.org/10.7554/elife.01567.\n"
     ]
    }
   ],
   "source": [
    "citation = metadata.write(to=\"citation\", style=\"chicago-author-date\", locale=\"en-US\")\n",
    "print(citation)"
   ]
  },
  {
   "attachments": {},
   "cell_type": "markdown",
   "id": "e23d5c6b",
   "metadata": {},
   "source": [
    "## Citation Locales\n",
    "\n",
    "The other option in the citation writer is the *locale*, which is the language in which the citation is written (words like dates, not the metadata that comes from Crossref). The default locale is `en-US`, we use `es-ES` here. The locales are defined in the [Citation Style Language repository](https://github.com/citation-style-language/locales). I am using an example from Crossref where the metadata are also in Spanish."
   ]
  },
  {
   "cell_type": "code",
   "execution_count": 1,
   "id": "fd476a35",
   "metadata": {},
   "outputs": [
    {
     "ename": "NameError",
     "evalue": "name 'Metadata' is not defined",
     "output_type": "error",
     "traceback": [
      "\u001b[0;31m---------------------------------------------------------------------------\u001b[0m",
      "\u001b[0;31mNameError\u001b[0m                                 Traceback (most recent call last)",
      "Cell \u001b[0;32mIn[1], line 1\u001b[0m\n\u001b[0;32m----> 1\u001b[0m metadata \u001b[38;5;241m=\u001b[39m \u001b[43mMetadata\u001b[49m(\u001b[38;5;124m\"\u001b[39m\u001b[38;5;124m10.18558/fil026\u001b[39m\u001b[38;5;124m\"\u001b[39m)\n\u001b[1;32m      2\u001b[0m metadata\u001b[38;5;241m.\u001b[39mlocale \u001b[38;5;241m=\u001b[39m \u001b[38;5;124m\"\u001b[39m\u001b[38;5;124mes-ES\u001b[39m\u001b[38;5;124m\"\u001b[39m\n\u001b[1;32m      3\u001b[0m metadata\u001b[38;5;241m.\u001b[39mstyle \u001b[38;5;241m=\u001b[39m \u001b[38;5;124m\"\u001b[39m\u001b[38;5;124mmodern-language-association\u001b[39m\u001b[38;5;124m\"\u001b[39m\n",
      "\u001b[0;31mNameError\u001b[0m: name 'Metadata' is not defined"
     ]
    }
   ],
   "source": [
    "metadata = Metadata(\"10.18558/fil026\")\n",
    "metadata.locale = \"es-ES\"\n",
    "metadata.style = \"modern-language-association\"\n",
    "citation = metadata.write(to=\"citation\", style=\"modern-language-association\", locale=\"es-ES\")\n",
    "print(citation)"
   ]
  }
 ],
 "metadata": {
  "kernelspec": {
   "display_name": "commonmeta-py",
   "language": "python",
   "name": "python3"
  },
  "language_info": {
   "codemirror_mode": {
    "name": "ipython",
    "version": 3
   },
   "file_extension": ".py",
   "mimetype": "text/x-python",
   "name": "python",
   "nbconvert_exporter": "python",
   "pygments_lexer": "ipython3",
   "version": "3.9.13"
  }
 },
 "nbformat": 4,
 "nbformat_minor": 5
}
